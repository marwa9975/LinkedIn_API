{
 "cells": [
  {
   "cell_type": "markdown",
   "metadata": {},
   "source": [
    "## Walid Faza"
   ]
  },
  {
   "cell_type": "code",
   "execution_count": 2,
   "metadata": {},
   "outputs": [],
   "source": [
    "import json"
   ]
  },
  {
   "cell_type": "code",
   "execution_count": 3,
   "metadata": {},
   "outputs": [
    {
     "name": "stdout",
     "output_type": "stream",
     "text": [
      "{'industryName': 'Venture Capital and Private Equity Principals', 'lastName': 'Faza', 'locationName': 'Saudi Arabia', 'student': False, 'geoCountryName': 'Saudi Arabia', 'geoCountryUrn': 'urn:li:fs_geo:100459316', 'geoLocationBackfilled': False, 'elt': False, 'industryUrn': 'urn:li:fs_industry:106', 'firstName': 'Walid', 'entityUrn': 'urn:li:fs_profile:ACoAAAScv-wBCq3K-xM2WQaS23UeSPW-VXbdeY0', 'geoLocation': {'geoUrn': 'urn:li:fs_geo:101336206'}, 'geoLocationName': 'Riyadh', 'location': {'basicLocation': {'countryCode': 'sa'}}, 'headline': 'Partner & Chief Operating Officer at MSA Capital', 'displayPictureUrl': 'https://media.licdn.com/dms/image/C5603AQHUU1QMeaL8Ig/profile-displayphoto-shrink_', 'img_100_100': '100_100/0/1616681065769?e=1719446400&v=beta&t=hlFVK7JUlzfiZDROTyHtbWnayCwB82nfNW9ekE89rBw', 'img_200_200': '200_200/0/1616681065769?e=1719446400&v=beta&t=fIfCTa1Ik5tQh3DgWQd3pi1hPDgj8ztS9hOwBZHzbko', 'img_400_400': '400_400/0/1616681065769?e=1719446400&v=beta&t=x8eSpQzbOq744ee6s5j5Gwixm9F64ucXop3oVFrBLu8', 'img_800_800': '800_800/0/1616681065769?e=1719446400&v=beta&t=iqQN2WhFOXtm44-RK0oy5RkNZCr2azT3VeW13BYDjLM', 'profile_id': 'ACoAAAScv-wBCq3K-xM2WQaS23UeSPW-VXbdeY0', 'profile_urn': 'urn:li:fs_miniProfile:ACoAAAScv-wBCq3K-xM2WQaS23UeSPW-VXbdeY0', 'member_urn': 'urn:li:member:77381612', 'public_id': 'walidfaza', 'experience': [{'entityUrn': 'urn:li:fs_position:(ACoAAAScv-wBCq3K-xM2WQaS23UeSPW-VXbdeY0,1932761494)', 'companyName': 'MSA Novo', 'timePeriod': {'startDate': {'month': 12, 'year': 2021}}, 'description': \"MSA Novo is a multi-stage global emerging markets-focused venture capital firm. The most active global fund investing in MENA companies. With over 12 years of experience in the region's venture capital industry, Walid is responsible for investments, partnerships, and running operations for MSA in emerging technology markets. Walid is an advisor to many startups and has extensive managerial, leadership, and mentorship expertise.\", 'company': {'employeeCountRange': {'start': 2, 'end': 10}, 'industries': ['Venture Capital & Private Equity']}, 'title': 'Partner & Chief Operating Officer', 'companyUrn': 'urn:li:fs_miniCompany:78822478', 'companyLogoUrl': 'https://media.licdn.com/dms/image/C560BAQEeEbuWNOPK7A/company-logo_'}, {'entityUrn': 'urn:li:fs_position:(ACoAAAScv-wBCq3K-xM2WQaS23UeSPW-VXbdeY0,1467012226)', 'companyName': 'MSA Capital', 'timePeriod': {'startDate': {'month': 5, 'year': 2019}}, 'description': \"Walid Faza is a Partner at MSA Capital, a global investment firm with $1.8bn under management. MSA's portfolio includes most of the sector leaders in the Chinese technology space, such as Meituan, Didi, BGI, and Boss Zhipin.\", 'company': {'employeeCountRange': {'start': 11, 'end': 50}, 'industries': ['Venture Capital & Private Equity']}, 'title': 'Partner', 'companyUrn': 'urn:li:fs_miniCompany:18592571', 'companyLogoUrl': 'https://media.licdn.com/dms/image/C560BAQGDHiJgsprWlg/company-logo_'}, {'locationName': '   ', 'entityUrn': 'urn:li:fs_position:(ACoAAAScv-wBCq3K-xM2WQaS23UeSPW-VXbdeY0,737156822)', 'geoLocationName': '   ', 'companyName': 'Wamda Capital', 'timePeriod': {'endDate': {'month': 5, 'year': 2019}, 'startDate': {'month': 7, 'year': 2014}}, 'description': 'Wamda Capital is the largest growth stage fund in the MENA region that invests in high growth and capital efficient technology businesses led by exceptional entrepreneurs.', 'company': {'employeeCountRange': {'start': 2, 'end': 10}, 'industries': ['Venture Capital & Private Equity']}, 'title': 'Partner', 'companyUrn': 'urn:li:fs_miniCompany:4845649', 'companyLogoUrl': 'https://media.licdn.com/dms/image/D4D0BAQGxdf7Uo6Ncew/company-logo_'}, {'entityUrn': 'urn:li:fs_position:(ACoAAAScv-wBCq3K-xM2WQaS23UeSPW-VXbdeY0,263317865)', 'companyName': 'Wamda', 'timePeriod': {'endDate': {'month': 10, 'year': 2014}, 'startDate': {'month': 3, 'year': 2012}}, 'description': 'Transforming the early stage entrepreneurship ecosystem in MENASA', 'title': 'Investment Manager'}, {'entityUrn': 'urn:li:fs_position:(ACoAAAScv-wBCq3K-xM2WQaS23UeSPW-VXbdeY0,181156640)', 'companyName': 'mena venture investments', 'timePeriod': {'endDate': {'month': 10, 'year': 2014}, 'startDate': {'month': 11, 'year': 2010}}, 'description': 'MENA Venture Investments supports entrepreneurs with ventures that have strong growth potential. By forming strategic partnerships, we aim to enable the entrepreneur in various capacities beyond providing just capital, but also networking opportunities, managerial expertise, direction and support.', 'title': 'Investment Manager'}], 'education': [{'entityUrn': 'urn:li:fs_education:(ACoAAAScv-wBCq3K-xM2WQaS23UeSPW-VXbdeY0,59355761)', 'school': {'objectUrn': 'urn:li:school:10889', 'entityUrn': 'urn:li:fs_miniSchool:10889', 'active': True, 'schoolName': 'Concordia University', 'trackingId': 'm0ApePbuSCezeEhKAaRh2w==', 'logoUrl': 'https://media.licdn.com/dms/image/D4E0BAQHwJM6UBUaPiw/company-logo_'}, 'timePeriod': {'endDate': {'year': 1999}, 'startDate': {'year': 1996}}, 'degreeName': 'B.Comm', 'schoolName': 'Concordia University', 'fieldOfStudy': 'Marketing', 'schoolUrn': 'urn:li:fs_miniSchool:10889'}, {'entityUrn': 'urn:li:fs_education:(ACoAAAScv-wBCq3K-xM2WQaS23UeSPW-VXbdeY0,58554485)', 'school': {'objectUrn': 'urn:li:school:14790', 'entityUrn': 'urn:li:fs_miniSchool:14790', 'active': True, 'schoolName': 'American University of Beirut', 'trackingId': '0WnLihVkTo67isM44UDdQg==', 'logoUrl': 'https://media.licdn.com/dms/image/C4E0BAQF0TAe75GMPWA/company-logo_'}, 'timePeriod': {'endDate': {'year': 2010}, 'startDate': {'year': 2008}}, 'degreeName': 'MBA', 'schoolName': 'American University of Beirut', 'schoolUrn': 'urn:li:fs_miniSchool:14790'}, {'entityUrn': 'urn:li:fs_education:(ACoAAAScv-wBCq3K-xM2WQaS23UeSPW-VXbdeY0,59355769)', 'timePeriod': {'endDate': {'year': 1996}, 'startDate': {'year': 1992}}, 'degreeName': 'IB', 'schoolName': 'Amman Baccalaureate School'}], 'languages': [], 'publications': [], 'certifications': [], 'volunteer': [], 'honors': [], 'projects': []}\n"
     ]
    }
   ],
   "source": [
    "with open('Data\\Walid-faza.json', 'r') as f:\n",
    "    walid_data = json.load(f)\n",
    "\n",
    "print(walid_data)"
   ]
  },
  {
   "cell_type": "code",
   "execution_count": 4,
   "metadata": {},
   "outputs": [
    {
     "data": {
      "text/plain": [
       "'Venture Capital and Private Equity Principals'"
      ]
     },
     "execution_count": 4,
     "metadata": {},
     "output_type": "execute_result"
    }
   ],
   "source": [
    "walid_data['industryName']"
   ]
  },
  {
   "cell_type": "code",
   "execution_count": 5,
   "metadata": {},
   "outputs": [
    {
     "data": {
      "text/plain": [
       "'Saudi Arabia'"
      ]
     },
     "execution_count": 5,
     "metadata": {},
     "output_type": "execute_result"
    }
   ],
   "source": [
    "walid_data['locationName']"
   ]
  },
  {
   "cell_type": "code",
   "execution_count": 6,
   "metadata": {},
   "outputs": [
    {
     "name": "stdout",
     "output_type": "stream",
     "text": [
      "Partner & Chief Operating Officer at MSA Capital\n"
     ]
    }
   ],
   "source": [
    "print(walid_data['headline'])"
   ]
  },
  {
   "cell_type": "code",
   "execution_count": 7,
   "metadata": {},
   "outputs": [
    {
     "name": "stdout",
     "output_type": "stream",
     "text": [
      "School: Concordia University\n",
      "Degree: B.Comm\n",
      "Field of Study: Marketing\n",
      "Time Period: {'endDate': {'year': 1999}, 'startDate': {'year': 1996}}\n",
      "-----------------------------------\n",
      "School: American University of Beirut\n",
      "Degree: MBA\n",
      "Field of Study: None\n",
      "Time Period: {'endDate': {'year': 2010}, 'startDate': {'year': 2008}}\n",
      "-----------------------------------\n",
      "School: Amman Baccalaureate School\n",
      "Degree: IB\n",
      "Field of Study: None\n",
      "Time Period: {'endDate': {'year': 1996}, 'startDate': {'year': 1992}}\n",
      "-----------------------------------\n"
     ]
    }
   ],
   "source": [
    "education = walid_data.get('education', [])\n",
    "for edu in education:\n",
    "    print(\"School:\", edu.get('schoolName'))\n",
    "    print(\"Degree:\", edu.get('degreeName'))\n",
    "    print(\"Field of Study:\", edu.get('fieldOfStudy'))\n",
    "    print(\"Time Period:\", edu.get('timePeriod'))\n",
    "    print(\"-----------------------------------\")\n"
   ]
  },
  {
   "cell_type": "code",
   "execution_count": 8,
   "metadata": {},
   "outputs": [
    {
     "name": "stdout",
     "output_type": "stream",
     "text": [
      "Company: MSA Novo\n",
      "Title: Partner & Chief Operating Officer\n",
      "Description: MSA Novo is a multi-stage global emerging markets-focused venture capital firm. The most active global fund investing in MENA companies. With over 12 years of experience in the region's venture capital industry, Walid is responsible for investments, partnerships, and running operations for MSA in emerging technology markets. Walid is an advisor to many startups and has extensive managerial, leadership, and mentorship expertise.\n",
      "-----------------------------------\n",
      "Company: MSA Capital\n",
      "Title: Partner\n",
      "Description: Walid Faza is a Partner at MSA Capital, a global investment firm with $1.8bn under management. MSA's portfolio includes most of the sector leaders in the Chinese technology space, such as Meituan, Didi, BGI, and Boss Zhipin.\n",
      "-----------------------------------\n",
      "Company: Wamda Capital\n",
      "Title: Partner\n",
      "Description: Wamda Capital is the largest growth stage fund in the MENA region that invests in high growth and capital efficient technology businesses led by exceptional entrepreneurs.\n",
      "-----------------------------------\n",
      "Company: Wamda\n",
      "Title: Investment Manager\n",
      "Description: Transforming the early stage entrepreneurship ecosystem in MENASA\n",
      "-----------------------------------\n",
      "Company: mena venture investments\n",
      "Title: Investment Manager\n",
      "Description: MENA Venture Investments supports entrepreneurs with ventures that have strong growth potential. By forming strategic partnerships, we aim to enable the entrepreneur in various capacities beyond providing just capital, but also networking opportunities, managerial expertise, direction and support.\n",
      "-----------------------------------\n"
     ]
    }
   ],
   "source": [
    "experiences = walid_data['experience']\n",
    "for exp in experiences:\n",
    "    print(\"Company:\", exp['companyName'])\n",
    "    print(\"Title:\", exp['title'])\n",
    "    print(\"Description:\", exp['description'])\n",
    "    print(\"-----------------------------------\")\n"
   ]
  },
  {
   "cell_type": "markdown",
   "metadata": {},
   "source": [
    "## Alijandro Troll"
   ]
  },
  {
   "cell_type": "code",
   "execution_count": 9,
   "metadata": {},
   "outputs": [],
   "source": [
    "# Read AlijandroTroll.json\n",
    "with open('Data\\Alejandro-Troll.json', 'r') as f:\n",
    "    alijandro_data = json.load(f)"
   ]
  },
  {
   "cell_type": "code",
   "execution_count": 10,
   "metadata": {},
   "outputs": [
    {
     "name": "stdout",
     "output_type": "stream",
     "text": [
      "Troll Bouroncle\n"
     ]
    }
   ],
   "source": [
    "last_name = alijandro_data['lastName']\n",
    "print(last_name)"
   ]
  },
  {
   "cell_type": "code",
   "execution_count": 11,
   "metadata": {},
   "outputs": [
    {
     "data": {
      "text/plain": [
       "'Peru'"
      ]
     },
     "execution_count": 11,
     "metadata": {},
     "output_type": "execute_result"
    }
   ],
   "source": [
    "alijandro_data['geoCountryName']"
   ]
  },
  {
   "cell_type": "markdown",
   "metadata": {},
   "source": [
    "### Anie Akpe"
   ]
  },
  {
   "cell_type": "code",
   "execution_count": 12,
   "metadata": {},
   "outputs": [
    {
     "name": "stdout",
     "output_type": "stream",
     "text": [
      "{'summary': \"Accomplished Vice President with extensive banking experience, specializing in Mortgage Operations, Commercial Lending, and Credit Analysis. A Dowling College graduate with a unique blend of tech advocacy and entrepreneurial acumen, I've consistently delivered results in both corporate and non-profit arenas. Eager to leverage this diverse skill set to drive further growth and innovation\", 'industryName': 'Banking', 'lastName': 'Akpe', 'locationName': 'United States', 'student': False, 'geoCountryName': 'United States', 'geoCountryUrn': 'urn:li:fs_geo:103644278', 'geoLocationBackfilled': False, 'elt': False, 'industryUrn': 'urn:li:fs_industry:41', 'firstName': 'Anie', 'entityUrn': 'urn:li:fs_profile:ACoAAAKPsm8B6V4Tugaj_OPiYg_ZX8v40A0k3e4', 'geoLocation': {'geoUrn': 'urn:li:fs_geo:104361728'}, 'geoLocationName': 'Brooklyn, New York', 'location': {'basicLocation': {'countryCode': 'us'}}, 'headline': 'Community Builder | Tech Innovator | Champion for Empowering African Women', 'displayPictureUrl': 'https://media.licdn.com/dms/image/D4E03AQH1zs8_UfyZjg/profile-displayphoto-shrink_', 'img_100_100': '100_100/0/1707054917411?e=1719446400&v=beta&t=2wiJ0Xay5sH40QwZmcvJ1eFSj5CdG9GEr9zINBLGpqg', 'img_200_200': '200_200/0/1707054917411?e=1719446400&v=beta&t=P9jfeeIVL5xRUQhNWXSOR1gIvkPFq34z8yvHVUtkVv4', 'img_400_400': '400_400/0/1707054917411?e=1719446400&v=beta&t=DDOTft5PAxxlmqfN163LuwbmlclEwiSIMQK8CyXcMxU', 'img_800_800': '800_800/0/1707054917411?e=1719446400&v=beta&t=j8xpf9T6Qi1_USKgYd7_96h341nOu5wDV9kbjJM42Bk', 'profile_id': 'ACoAAAKPsm8B6V4Tugaj_OPiYg_ZX8v40A0k3e4', 'profile_urn': 'urn:li:fs_miniProfile:ACoAAAKPsm8B6V4Tugaj_OPiYg_ZX8v40A0k3e4', 'member_urn': 'urn:li:member:42971759', 'public_id': 'anie-akpe-abb48312', 'experience': [{'locationName': 'Silicon Valley, California, United States', 'entityUrn': 'urn:li:fs_position:(ACoAAAKPsm8B6V4Tugaj_OPiYg_ZX8v40A0k3e4,2334667184)', 'geoLocationName': 'Silicon Valley, California, United States', 'geoUrn': 'urn:li:fs_geo:102490453', 'companyName': 'African Diaspora Network', 'timePeriod': {'startDate': {'month': 2, 'year': 2024}}, 'description': \"In my role as Community and Partnership Manager at the African Diaspora Network, I focus on a variety of key areas to enhance our community's impact and reach:\\n\\n- Strengthen Community Ties: I work to build a supportive and vibrant community among the African diaspora, fostering a sense of unity and mutual support.\\n\\n- Forge Strategic Partnerships: I develop and sustain strategic relationships with organizations and stakeholders that share our mission, to expand our network's influence and capabilities.\\n\\n- Promote Innovation and Collaboration: I encourage the diaspora to engage in innovation through technology and entrepreneurship, facilitating collaboration and the exchange of knowledge.\\n\\n- Amplify Voices: I aim to elevate the voices and contributions of the African diaspora in global arenas, ensuring our representation and impact in critical discussions.\\n\\n- Mobilize Resources: I seek out and mobilize resources to support the diaspora's growth, including funding, mentorship programs, and educational opportunities.\\n\\n- Drive Impactful Initiatives: I lead initiatives aimed at the economic, social, and cultural empowerment of Africans and people of African descent.\\n\\n- Champion Diversity and Inclusion: I advocate for diversity, equity, and inclusion within our diaspora community and in our partnerships, highlighting the value of diverse perspectives and experiences.\\n\\nMy commitment to empowering the African diaspora is at the heart of my work, as I leverage my skills to foster a global community marked by innovation, resilience, and progress.\", 'company': {'employeeCountRange': {'start': 2, 'end': 10}, 'industries': ['Nonprofit Organization Management']}, 'title': 'Community and Partnership Manager', 'region': 'urn:li:fs_region:(us,0)', 'companyUrn': 'urn:li:fs_miniCompany:1982539', 'companyLogoUrl': 'https://media.licdn.com/dms/image/C560BAQGZuXlqzjH6XQ/company-logo_'}, {'locationName': 'New York, New York', 'entityUrn': 'urn:li:fs_position:(ACoAAAKPsm8B6V4Tugaj_OPiYg_ZX8v40A0k3e4,1064829632)', 'geoLocationName': 'New York, New York', 'companyName': 'African Women In Tech - AWIT-', 'timePeriod': {'startDate': {'month': 1, 'year': 2016}}, 'description': \"- Launched African Women in Technology with a vision to advocate and bolster the presence of women in the tech sector across Africa.\\n- Drove impactful change, training over 8,000 young women and girls in various African countries, with a specialized focus on tech proficiency and entrepreneurship.\\n- Transitioned from the successful groundwork of IBOM LLC, further defining customer discovery initiatives to address unique challenges and opportunities within the African tech landscape.\\n- Developed a holistic product vision and roadmap, underpinned by robust customer acquisition strategies, setting the direction for an overarching brand strategy.\\n- Conducted in-depth market research, identifying industry competition and harnessing emerging trends, ensuring African Women in Technology remained a pioneering force in promoting women's roles in technology.\\n- Nurtured and grew influential partnerships with businesses, creating a symbiotic environment for collaboration, growth, and shared successes.\\n- Led the organization with a blend of strategic insight and on-the-ground execution, ensuring operational scalability and consistently high levels of stakeholder satisfaction.\", 'company': {'employeeCountRange': {'start': 2, 'end': 10}, 'industries': ['Information Technology and Services']}, 'title': 'Founder', 'companyUrn': 'urn:li:fs_miniCompany:14025758', 'companyLogoUrl': 'https://media.licdn.com/dms/image/C4D0BAQF8yHH8XqLjxA/company-logo_'}, {'locationName': 'Washington, District of Columbia, United States', 'entityUrn': 'urn:li:fs_position:(ACoAAAKPsm8B6V4Tugaj_OPiYg_ZX8v40A0k3e4,2286727294)', 'geoLocationName': 'Washington, District of Columbia, United States', 'geoUrn': 'urn:li:fs_geo:104383890', 'companyName': 'US Department Of Commerce FCU', 'timePeriod': {'endDate': {'month': 11, 'year': 2023}, 'startDate': {'month': 3, 'year': 2021}}, 'description': '-Managed mortgage loan production quality and directed mortgage originators\\n-Developed new proposals, contracts and procedures to draw in more clients and streamline work operations.\\n-Implemented systems and procedures to increase sales.\\n-Supervised key functions, including underwriting, processing, escrow, servicing, secondary market, and asset recovery\\n-Collaborated with VP of Mortgage Lending to diversify interest and fee revenue\\nLed day-to-day mortgage lending functions and developed staff and processes for portfolio growth\\n-Oversaw Lending QB loan origination system, ensuring regulatory compliance\\nand efficiency\\n-Directed quality control processes, facilitated training, and represented Bank in industry groups\\n-Implemented new systems to enhance operational efficiency.\\n-Handled administrative systems to assist senior leadership and over 35 staff\\nmembers\\n-Setup Test Scenarios for system conversion\\n-Generated new business with marketing initiatives and strategic plans.', 'title': 'Assistant Vice Mortgage Operations ', 'region': 'urn:li:fs_region:(us,0)'}, {'locationName': 'Greater New York City Area', 'entityUrn': 'urn:li:fs_position:(ACoAAAKPsm8B6V4Tugaj_OPiYg_ZX8v40A0k3e4,594682998)', 'geoLocationName': 'Greater New York City Area', 'companyName': 'IBOM LLC', 'timePeriod': {'endDate': {'month': 12, 'year': 2022}, 'startDate': {'month': 11, 'year': 2011}}, 'description': '**Founder | IBOM LLC**\\n\\n- Founded IBOM LLC with a mission to boost revenues and drive strategic growth for small businesses, specifically catering to the African Diaspora community.\\n- Pioneered comprehensive educational initiatives, including targeted seminars and culturally-rich events, to enhance knowledge and business acumen within the community.\\n- Successfully validated startup concepts, drove traction, and built foundational teams for clients, showcasing expertise in challenger sales and fostering executive relationships across various sectors.\\n- Integrated tech advocacy, curating cutting-edge tech events and ensuring the community remains at the forefront of technological advancements. Explore our latest insights on [Innov8tiv](http://www.innov8tiv.com), our dedicated platform for tech news and updates.\\n- Conducted in-depth market research to pinpoint industry competition and discern beneficial trends, laying the groundwork for innovative strategies and modernized procedures.', 'company': {'employeeCountRange': {'start': 2, 'end': 10}, 'industries': ['Management Consulting']}, 'title': 'Founder', 'companyUrn': 'urn:li:fs_miniCompany:3290171', 'companyLogoUrl': 'https://media.licdn.com/dms/image/C4D0BAQGjBwNgH1Q76w/company-logo_'}, {'locationName': 'New York, New York', 'entityUrn': 'urn:li:fs_position:(ACoAAAKPsm8B6V4Tugaj_OPiYg_ZX8v40A0k3e4,69060036)', 'geoLocationName': 'New York, New York', 'companyName': 'Municipal Credit Union', 'timePeriod': {'endDate': {'month': 6, 'year': 2019}, 'startDate': {'month': 11, 'year': 2002}}, 'organizations': ['urn:li:fs_organization:(ACoAAAKPsm8B6V4Tugaj_OPiYg_ZX8v40A0k3e4,33)'], 'description': \"Certainly! Here's a revised version incorporating those specifics:\\n\\n- Spearheaded the growth of the mortgage portfolio, elevating its value from $225M to an impressive $1.2B, consistently meeting and exceeding annual targets.\\n- Championed the integration of cutting-edge mortgage technology systems such as Prime Alliance, Harland Servicing, Originations System, and Mortgagebot, enhancing operational efficiency and client service.\\n- Collaborated with non-profit organizations to promote homeownership for low-income buyers, emphasizing community upliftment and financial inclusivity.\\n- Pioneered the seamless execution of multiple system implementations and migrations, including notable projects with Jack Henry (2011) and Fiserv in Lending (2004).\\n- Steered the team through critical testing phases, ensuring functionality and data integrity during system conversions, emphasizing attention to detail and user experience.\\n- Led a dynamic team comprising sales, processing, underwriting, quality control, and loss mitigation departments, fostering a culture of excellence and ensuring cohesion across diverse operational areas.\", 'company': {'employeeCountRange': {'start': 501, 'end': 1000}, 'industries': ['Financial Services']}, 'title': 'VP/Mortgage Operations', 'companyUrn': 'urn:li:fs_miniCompany:49608', 'companyLogoUrl': 'https://media.licdn.com/dms/image/C510BAQE13zAA-azKcQ/company-logo_'}], 'education': [{'entityUrn': 'urn:li:fs_education:(ACoAAAKPsm8B6V4Tugaj_OPiYg_ZX8v40A0k3e4,84795395)', 'school': {'objectUrn': 'urn:li:school:18950', 'entityUrn': 'urn:li:fs_miniSchool:18950', 'active': True, 'schoolName': 'Dowling College', 'trackingId': 'uNRn+hLCSPe0SMVLRdQmVA==', 'logoUrl': 'https://media.licdn.com/dms/image/C510BAQGgdDEVBMy6Bw/company-logo_'}, 'timePeriod': {'endDate': {'year': 2011}, 'startDate': {'year': 2010}}, 'degreeName': 'MBA', 'schoolName': 'Dowling College', 'schoolUrn': 'urn:li:fs_miniSchool:18950'}, {'entityUrn': 'urn:li:fs_education:(ACoAAAKPsm8B6V4Tugaj_OPiYg_ZX8v40A0k3e4,245307182)', 'activities': 'DECA', 'timePeriod': {'endDate': {'year': 1988}, 'startDate': {'year': 1984}}, 'degreeName': 'General Studies', 'schoolName': 'Roseville High School'}], 'languages': [], 'publications': [{'date': {'month': 2, 'year': 2015, 'day': 2}, 'name': 'Innov8tiv’s 50 Young Visionary Men To Watch In 2015', 'publisher': 'innov8tiv.com', 'url': 'http://innov8tiv.com/innov8tivs-50-young-visionary-men-watch-2015/', 'authors': [{'member': {'firstName': 'Anie', 'lastName': 'Akpe', 'dashEntityUrn': 'urn:li:fsd_profile:ACoAAAKPsm8B6V4Tugaj_OPiYg_ZX8v40A0k3e4', 'occupation': 'Community Builder | Tech Innovator | Champion for Empowering African Women', 'objectUrn': 'urn:li:member:42971759', 'entityUrn': 'urn:li:fs_miniProfile:ACoAAAKPsm8B6V4Tugaj_OPiYg_ZX8v40A0k3e4', 'backgroundImage': {'com.linkedin.common.VectorImage': {'artifacts': [{'width': 798, 'fileIdentifyingUrlPathSegment': '200_800/0/1707056173857?e=1719446400&v=beta&t=LRd3Vo6rO3aQ4HSaSGEYbhP2PTyOk0lMyA6_5MJRkEQ', 'expiresAt': 1719446400000, 'height': 200}, {'width': 1290, 'fileIdentifyingUrlPathSegment': '350_1400/0/1707056173857?e=1719446400&v=beta&t=-DlOj4T9I-pznq_qGQynnIqyU1N_2CVDhpVM8upnLhc', 'expiresAt': 1719446400000, 'height': 323}], 'rootUrl': 'https://media.licdn.com/dms/image/D4E16AQHA5lSQvhr1pg/profile-displaybackgroundimage-shrink_'}}, 'publicIdentifier': 'anie-akpe-abb48312', 'picture': {'com.linkedin.common.VectorImage': {'artifacts': [{'width': 100, 'fileIdentifyingUrlPathSegment': '100_100/0/1707054917411?e=1719446400&v=beta&t=2wiJ0Xay5sH40QwZmcvJ1eFSj5CdG9GEr9zINBLGpqg', 'expiresAt': 1719446400000, 'height': 100}, {'width': 200, 'fileIdentifyingUrlPathSegment': '200_200/0/1707054917411?e=1719446400&v=beta&t=P9jfeeIVL5xRUQhNWXSOR1gIvkPFq34z8yvHVUtkVv4', 'expiresAt': 1719446400000, 'height': 200}, {'width': 400, 'fileIdentifyingUrlPathSegment': '400_400/0/1707054917411?e=1719446400&v=beta&t=DDOTft5PAxxlmqfN163LuwbmlclEwiSIMQK8CyXcMxU', 'expiresAt': 1719446400000, 'height': 400}, {'width': 800, 'fileIdentifyingUrlPathSegment': '800_800/0/1707054917411?e=1719446400&v=beta&t=j8xpf9T6Qi1_USKgYd7_96h341nOu5wDV9kbjJM42Bk', 'expiresAt': 1719446400000, 'height': 800}], 'rootUrl': 'https://media.licdn.com/dms/image/D4E03AQH1zs8_UfyZjg/profile-displayphoto-shrink_'}}, 'trackingId': 'e0reM/Y3Tv2w0MYn4Wmsiw=='}, 'profileUrn': 'urn:li:fs_miniProfile:ACoAAAKPsm8B6V4Tugaj_OPiYg_ZX8v40A0k3e4'}]}], 'certifications': [], 'volunteer': [], 'honors': [{'title': 'Visonary Leader', 'issueDate': {'month': 12, 'year': 2013}, 'issuer': 'The Caribbean American Chamber Of Commerce and Industry, Inc. (CACCI)'}], 'projects': []}\n"
     ]
    }
   ],
   "source": [
    "with open('Data\\Anie-Akpe.json', 'r') as f:\n",
    "    anie_data = json.load(f)\n",
    "\n",
    "print(anie_data)    "
   ]
  },
  {
   "cell_type": "code",
   "execution_count": 13,
   "metadata": {},
   "outputs": [
    {
     "name": "stdout",
     "output_type": "stream",
     "text": [
      "Community Builder | Tech Innovator | Champion for Empowering African Women\n"
     ]
    }
   ],
   "source": [
    "print(anie_data['headline'])"
   ]
  },
  {
   "cell_type": "code",
   "execution_count": 14,
   "metadata": {},
   "outputs": [
    {
     "name": "stdout",
     "output_type": "stream",
     "text": [
      "Accomplished Vice President with extensive banking experience, specializing in Mortgage Operations, Commercial Lending, and Credit Analysis. A Dowling College graduate with a unique blend of tech advocacy and entrepreneurial acumen, I've consistently delivered results in both corporate and non-profit arenas. Eager to leverage this diverse skill set to drive further growth and innovation\n"
     ]
    }
   ],
   "source": [
    "print(anie_data['summary'])"
   ]
  },
  {
   "cell_type": "code",
   "execution_count": 15,
   "metadata": {},
   "outputs": [
    {
     "name": "stdout",
     "output_type": "stream",
     "text": [
      "Company: African Diaspora Network\n",
      "Title: Community and Partnership Manager\n",
      "Description: In my role as Community and Partnership Manager at the African Diaspora Network, I focus on a variety of key areas to enhance our community's impact and reach:\n",
      "\n",
      "- Strengthen Community Ties: I work to build a supportive and vibrant community among the African diaspora, fostering a sense of unity and mutual support.\n",
      "\n",
      "- Forge Strategic Partnerships: I develop and sustain strategic relationships with organizations and stakeholders that share our mission, to expand our network's influence and capabilities.\n",
      "\n",
      "- Promote Innovation and Collaboration: I encourage the diaspora to engage in innovation through technology and entrepreneurship, facilitating collaboration and the exchange of knowledge.\n",
      "\n",
      "- Amplify Voices: I aim to elevate the voices and contributions of the African diaspora in global arenas, ensuring our representation and impact in critical discussions.\n",
      "\n",
      "- Mobilize Resources: I seek out and mobilize resources to support the diaspora's growth, including funding, mentorship programs, and educational opportunities.\n",
      "\n",
      "- Drive Impactful Initiatives: I lead initiatives aimed at the economic, social, and cultural empowerment of Africans and people of African descent.\n",
      "\n",
      "- Champion Diversity and Inclusion: I advocate for diversity, equity, and inclusion within our diaspora community and in our partnerships, highlighting the value of diverse perspectives and experiences.\n",
      "\n",
      "My commitment to empowering the African diaspora is at the heart of my work, as I leverage my skills to foster a global community marked by innovation, resilience, and progress.\n",
      "-----------------------------------\n",
      "Company: African Women In Tech - AWIT-\n",
      "Title: Founder\n",
      "Description: - Launched African Women in Technology with a vision to advocate and bolster the presence of women in the tech sector across Africa.\n",
      "- Drove impactful change, training over 8,000 young women and girls in various African countries, with a specialized focus on tech proficiency and entrepreneurship.\n",
      "- Transitioned from the successful groundwork of IBOM LLC, further defining customer discovery initiatives to address unique challenges and opportunities within the African tech landscape.\n",
      "- Developed a holistic product vision and roadmap, underpinned by robust customer acquisition strategies, setting the direction for an overarching brand strategy.\n",
      "- Conducted in-depth market research, identifying industry competition and harnessing emerging trends, ensuring African Women in Technology remained a pioneering force in promoting women's roles in technology.\n",
      "- Nurtured and grew influential partnerships with businesses, creating a symbiotic environment for collaboration, growth, and shared successes.\n",
      "- Led the organization with a blend of strategic insight and on-the-ground execution, ensuring operational scalability and consistently high levels of stakeholder satisfaction.\n",
      "-----------------------------------\n",
      "Company: US Department Of Commerce FCU\n",
      "Title: Assistant Vice Mortgage Operations \n",
      "Description: -Managed mortgage loan production quality and directed mortgage originators\n",
      "-Developed new proposals, contracts and procedures to draw in more clients and streamline work operations.\n",
      "-Implemented systems and procedures to increase sales.\n",
      "-Supervised key functions, including underwriting, processing, escrow, servicing, secondary market, and asset recovery\n",
      "-Collaborated with VP of Mortgage Lending to diversify interest and fee revenue\n",
      "Led day-to-day mortgage lending functions and developed staff and processes for portfolio growth\n",
      "-Oversaw Lending QB loan origination system, ensuring regulatory compliance\n",
      "and efficiency\n",
      "-Directed quality control processes, facilitated training, and represented Bank in industry groups\n",
      "-Implemented new systems to enhance operational efficiency.\n",
      "-Handled administrative systems to assist senior leadership and over 35 staff\n",
      "members\n",
      "-Setup Test Scenarios for system conversion\n",
      "-Generated new business with marketing initiatives and strategic plans.\n",
      "-----------------------------------\n",
      "Company: IBOM LLC\n",
      "Title: Founder\n",
      "Description: **Founder | IBOM LLC**\n",
      "\n",
      "- Founded IBOM LLC with a mission to boost revenues and drive strategic growth for small businesses, specifically catering to the African Diaspora community.\n",
      "- Pioneered comprehensive educational initiatives, including targeted seminars and culturally-rich events, to enhance knowledge and business acumen within the community.\n",
      "- Successfully validated startup concepts, drove traction, and built foundational teams for clients, showcasing expertise in challenger sales and fostering executive relationships across various sectors.\n",
      "- Integrated tech advocacy, curating cutting-edge tech events and ensuring the community remains at the forefront of technological advancements. Explore our latest insights on [Innov8tiv](http://www.innov8tiv.com), our dedicated platform for tech news and updates.\n",
      "- Conducted in-depth market research to pinpoint industry competition and discern beneficial trends, laying the groundwork for innovative strategies and modernized procedures.\n",
      "-----------------------------------\n",
      "Company: Municipal Credit Union\n",
      "Title: VP/Mortgage Operations\n",
      "Description: Certainly! Here's a revised version incorporating those specifics:\n",
      "\n",
      "- Spearheaded the growth of the mortgage portfolio, elevating its value from $225M to an impressive $1.2B, consistently meeting and exceeding annual targets.\n",
      "- Championed the integration of cutting-edge mortgage technology systems such as Prime Alliance, Harland Servicing, Originations System, and Mortgagebot, enhancing operational efficiency and client service.\n",
      "- Collaborated with non-profit organizations to promote homeownership for low-income buyers, emphasizing community upliftment and financial inclusivity.\n",
      "- Pioneered the seamless execution of multiple system implementations and migrations, including notable projects with Jack Henry (2011) and Fiserv in Lending (2004).\n",
      "- Steered the team through critical testing phases, ensuring functionality and data integrity during system conversions, emphasizing attention to detail and user experience.\n",
      "- Led a dynamic team comprising sales, processing, underwriting, quality control, and loss mitigation departments, fostering a culture of excellence and ensuring cohesion across diverse operational areas.\n",
      "-----------------------------------\n"
     ]
    }
   ],
   "source": [
    "experiences = anie_data['experience']\n",
    "for exp in experiences:\n",
    "    print(\"Company:\", exp['companyName'])\n",
    "    print(\"Title:\", exp['title'])\n",
    "    print(\"Description:\", exp['description'])\n",
    "    print(\"-----------------------------------\")\n"
   ]
  },
  {
   "cell_type": "markdown",
   "metadata": {},
   "source": [
    "### Combine Alijandro and Walid"
   ]
  },
  {
   "cell_type": "code",
   "execution_count": 17,
   "metadata": {},
   "outputs": [],
   "source": [
    "import pandas as pd\n",
    "profiles = [alijandro_data, walid_data]\n",
    "\n",
    "# Convert to DataFrame\n",
    "df = pd.DataFrame(profiles)"
   ]
  },
  {
   "cell_type": "code",
   "execution_count": 18,
   "metadata": {},
   "outputs": [
    {
     "data": {
      "text/html": [
       "<div>\n",
       "<style scoped>\n",
       "    .dataframe tbody tr th:only-of-type {\n",
       "        vertical-align: middle;\n",
       "    }\n",
       "\n",
       "    .dataframe tbody tr th {\n",
       "        vertical-align: top;\n",
       "    }\n",
       "\n",
       "    .dataframe thead th {\n",
       "        text-align: right;\n",
       "    }\n",
       "</style>\n",
       "<table border=\"1\" class=\"dataframe\">\n",
       "  <thead>\n",
       "    <tr style=\"text-align: right;\">\n",
       "      <th></th>\n",
       "      <th>summary</th>\n",
       "      <th>industryName</th>\n",
       "      <th>lastName</th>\n",
       "      <th>locationName</th>\n",
       "      <th>student</th>\n",
       "      <th>geoCountryName</th>\n",
       "      <th>geoCountryUrn</th>\n",
       "      <th>geoLocationBackfilled</th>\n",
       "      <th>elt</th>\n",
       "      <th>industryUrn</th>\n",
       "      <th>...</th>\n",
       "      <th>public_id</th>\n",
       "      <th>experience</th>\n",
       "      <th>education</th>\n",
       "      <th>languages</th>\n",
       "      <th>publications</th>\n",
       "      <th>certifications</th>\n",
       "      <th>volunteer</th>\n",
       "      <th>honors</th>\n",
       "      <th>projects</th>\n",
       "      <th>geoLocationName</th>\n",
       "    </tr>\n",
       "  </thead>\n",
       "  <tbody>\n",
       "    <tr>\n",
       "      <th>0</th>\n",
       "      <td>I am a General Partner at B Venture Capital, a...</td>\n",
       "      <td>Venture Capital and Private Equity Principals</td>\n",
       "      <td>Troll Bouroncle</td>\n",
       "      <td>Peru</td>\n",
       "      <td>False</td>\n",
       "      <td>Peru</td>\n",
       "      <td>urn:li:fs_geo:102927786</td>\n",
       "      <td>False</td>\n",
       "      <td>False</td>\n",
       "      <td>urn:li:fs_industry:106</td>\n",
       "      <td>...</td>\n",
       "      <td>alejandrotroll</td>\n",
       "      <td>[{'locationName': 'Lima, Perú', 'entityUrn': '...</td>\n",
       "      <td>[{'entityUrn': 'urn:li:fs_education:(ACoAAAWYR...</td>\n",
       "      <td>[{'name': 'English', 'proficiency': 'NATIVE_OR...</td>\n",
       "      <td>[]</td>\n",
       "      <td>[]</td>\n",
       "      <td>[{'role': 'Voluntário', 'companyName': 'Cidadã...</td>\n",
       "      <td>[{'occupation': 'urn:li:fs_position:(ACoAAAWYR...</td>\n",
       "      <td>[]</td>\n",
       "      <td>NaN</td>\n",
       "    </tr>\n",
       "    <tr>\n",
       "      <th>1</th>\n",
       "      <td>NaN</td>\n",
       "      <td>Venture Capital and Private Equity Principals</td>\n",
       "      <td>Faza</td>\n",
       "      <td>Saudi Arabia</td>\n",
       "      <td>False</td>\n",
       "      <td>Saudi Arabia</td>\n",
       "      <td>urn:li:fs_geo:100459316</td>\n",
       "      <td>False</td>\n",
       "      <td>False</td>\n",
       "      <td>urn:li:fs_industry:106</td>\n",
       "      <td>...</td>\n",
       "      <td>walidfaza</td>\n",
       "      <td>[{'entityUrn': 'urn:li:fs_position:(ACoAAAScv-...</td>\n",
       "      <td>[{'entityUrn': 'urn:li:fs_education:(ACoAAAScv...</td>\n",
       "      <td>[]</td>\n",
       "      <td>[]</td>\n",
       "      <td>[]</td>\n",
       "      <td>[]</td>\n",
       "      <td>[]</td>\n",
       "      <td>[]</td>\n",
       "      <td>Riyadh</td>\n",
       "    </tr>\n",
       "  </tbody>\n",
       "</table>\n",
       "<p>2 rows × 33 columns</p>\n",
       "</div>"
      ],
      "text/plain": [
       "                                             summary  \\\n",
       "0  I am a General Partner at B Venture Capital, a...   \n",
       "1                                                NaN   \n",
       "\n",
       "                                    industryName         lastName  \\\n",
       "0  Venture Capital and Private Equity Principals  Troll Bouroncle   \n",
       "1  Venture Capital and Private Equity Principals             Faza   \n",
       "\n",
       "   locationName  student geoCountryName            geoCountryUrn  \\\n",
       "0          Peru    False           Peru  urn:li:fs_geo:102927786   \n",
       "1  Saudi Arabia    False   Saudi Arabia  urn:li:fs_geo:100459316   \n",
       "\n",
       "   geoLocationBackfilled    elt             industryUrn  ...       public_id  \\\n",
       "0                  False  False  urn:li:fs_industry:106  ...  alejandrotroll   \n",
       "1                  False  False  urn:li:fs_industry:106  ...       walidfaza   \n",
       "\n",
       "                                          experience  \\\n",
       "0  [{'locationName': 'Lima, Perú', 'entityUrn': '...   \n",
       "1  [{'entityUrn': 'urn:li:fs_position:(ACoAAAScv-...   \n",
       "\n",
       "                                           education  \\\n",
       "0  [{'entityUrn': 'urn:li:fs_education:(ACoAAAWYR...   \n",
       "1  [{'entityUrn': 'urn:li:fs_education:(ACoAAAScv...   \n",
       "\n",
       "                                           languages publications  \\\n",
       "0  [{'name': 'English', 'proficiency': 'NATIVE_OR...           []   \n",
       "1                                                 []           []   \n",
       "\n",
       "  certifications                                          volunteer  \\\n",
       "0             []  [{'role': 'Voluntário', 'companyName': 'Cidadã...   \n",
       "1             []                                                 []   \n",
       "\n",
       "                                              honors projects geoLocationName  \n",
       "0  [{'occupation': 'urn:li:fs_position:(ACoAAAWYR...       []             NaN  \n",
       "1                                                 []       []          Riyadh  \n",
       "\n",
       "[2 rows x 33 columns]"
      ]
     },
     "execution_count": 18,
     "metadata": {},
     "output_type": "execute_result"
    }
   ],
   "source": [
    "df"
   ]
  },
  {
   "cell_type": "code",
   "execution_count": 19,
   "metadata": {},
   "outputs": [],
   "source": [
    "# Export the DataFrame to a CSV file\n",
    "df.to_csv('combined_profiles.csv', index=False)"
   ]
  }
 ],
 "metadata": {
  "kernelspec": {
   "display_name": "base",
   "language": "python",
   "name": "python3"
  },
  "language_info": {
   "codemirror_mode": {
    "name": "ipython",
    "version": 3
   },
   "file_extension": ".py",
   "mimetype": "text/x-python",
   "name": "python",
   "nbconvert_exporter": "python",
   "pygments_lexer": "ipython3",
   "version": "3.9.13"
  }
 },
 "nbformat": 4,
 "nbformat_minor": 2
}
